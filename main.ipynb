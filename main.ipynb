{
 "cells": [
  {
   "cell_type": "code",
   "execution_count": 1,
   "id": "a529a16a-66ec-4a7f-9830-fe2f0ad47733",
   "metadata": {},
   "outputs": [],
   "source": [
    "import numpy as np\n",
    "import matplotlib.pyplot as plt\n",
    "import pandas as pd"
   ]
  },
  {
   "cell_type": "code",
   "execution_count": 2,
   "id": "f51df794-ef5c-41c5-8031-f779b6c73aa2",
   "metadata": {},
   "outputs": [
    {
     "name": "stderr",
     "output_type": "stream",
     "text": [
      "[nltk_data] Downloading package stopwords to\n",
      "[nltk_data]     /Users/pavanreddy/nltk_data...\n",
      "[nltk_data]   Package stopwords is already up-to-date!\n"
     ]
    }
   ],
   "source": [
    "import re\n",
    "import nltk\n",
    "nltk.download('stopwords')\n",
    "from nltk.corpus import stopwords\n",
    "from nltk.stem.porter import PorterStemmer\n",
    "stop_words=stopwords.words('english')"
   ]
  },
  {
   "cell_type": "code",
   "execution_count": 3,
   "id": "2602d062-18cf-45a3-9e6a-25d762ebd85e",
   "metadata": {},
   "outputs": [
    {
     "data": {
      "text/plain": [
       "True"
      ]
     },
     "execution_count": 3,
     "metadata": {},
     "output_type": "execute_result"
    }
   ],
   "source": [
    "exists = 'can' in stop_words\n",
    "exists"
   ]
  },
  {
   "cell_type": "code",
   "execution_count": 4,
   "id": "724a51eb-31f7-4823-a977-1be1b7dffcf8",
   "metadata": {},
   "outputs": [],
   "source": [
    "exclude=[' ','','although','however','run','several','may','word','situation','seperate','multiple','single','note','specific','wait','either','give','direct','directly','watch','watching','want','keep','general','suppose','design',',',')','(',';',':','/','one','allowed','allow','share','shared','space','spaced']"
   ]
  },
  {
   "cell_type": "code",
   "execution_count": 5,
   "id": "3366f296-33fd-405f-aa43-e1b3b6ff3aad",
   "metadata": {},
   "outputs": [],
   "source": [
    "for i in exclude:\n",
    "    stop_words.append(i)"
   ]
  },
  {
   "cell_type": "code",
   "execution_count": 6,
   "id": "2f93ebc7-316f-4cb9-80b4-f929e767f452",
   "metadata": {},
   "outputs": [
    {
     "data": {
      "text/plain": [
       "218"
      ]
     },
     "execution_count": 6,
     "metadata": {},
     "output_type": "execute_result"
    }
   ],
   "source": [
    "len(stop_words)"
   ]
  },
  {
   "cell_type": "code",
   "execution_count": 7,
   "id": "8381df1a-f476-4a2e-ba04-4a33670a1112",
   "metadata": {},
   "outputs": [],
   "source": [
    "input =\"A cooperating process is one that can affect or be affected by other processes executing in the system. Cooperating processes can either directly share a logical address space (that is, both code and data) or be allowed to share data only through files or messages.\""
   ]
  },
  {
   "cell_type": "code",
   "execution_count": 8,
   "id": "c674e706-8809-44d2-9117-44823b7c48b6",
   "metadata": {},
   "outputs": [
    {
     "data": {
      "text/plain": [
       "'A cooperating process is one that can affect or be affected by other processes executing in the system. Cooperating processes can either directly share a logical address space (that is, both code and data) or be allowed to share data only through files or messages.'"
      ]
     },
     "execution_count": 8,
     "metadata": {},
     "output_type": "execute_result"
    }
   ],
   "source": [
    "input"
   ]
  },
  {
   "cell_type": "code",
   "execution_count": 9,
   "id": "00ed427c-246d-4f2d-9fae-9cef26464fad",
   "metadata": {},
   "outputs": [
    {
     "data": {
      "text/plain": [
       "'A cooperating process is one that can affect or be affected by other processes executing in the system. Cooperating processes can either directly share a logical address space (that is, both code and data) or be allowed to share data only through files or messages.'"
      ]
     },
     "execution_count": 9,
     "metadata": {},
     "output_type": "execute_result"
    }
   ],
   "source": [
    "from textblob import TextBlob\n",
    "textblb=TextBlob(input)\n",
    "input=textblb.correct().string\n",
    "input"
   ]
  },
  {
   "cell_type": "code",
   "execution_count": 10,
   "id": "adccad07-4f86-48b9-b5a7-424b2206b83b",
   "metadata": {},
   "outputs": [
    {
     "data": {
      "text/plain": [
       "'A cooperating process is one that can affect or be affected by other processes executing in the system. Cooperating processes can either directly share a logical address space  that is  both code and data  or be allowed to share data only through files or messages.'"
      ]
     },
     "execution_count": 10,
     "metadata": {},
     "output_type": "execute_result"
    }
   ],
   "source": [
    "input=re.sub('[^a-zA-Z.]',' ',input)\n",
    "input"
   ]
  },
  {
   "cell_type": "code",
   "execution_count": 11,
   "id": "dc937263-ff2f-4e19-9b45-cce026be214c",
   "metadata": {},
   "outputs": [],
   "source": [
    "input=input.lower()"
   ]
  },
  {
   "cell_type": "code",
   "execution_count": 12,
   "id": "af86e160-2b81-4de1-8bee-b7a530e1597b",
   "metadata": {},
   "outputs": [
    {
     "data": {
      "text/plain": [
       "['a cooperating process is one that can affect or be affected by other processes executing in the system',\n",
       " ' cooperating processes can either directly share a logical address space  that is  both code and data  or be allowed to share data only through files or messages']"
      ]
     },
     "execution_count": 12,
     "metadata": {},
     "output_type": "execute_result"
    }
   ],
   "source": [
    "x=input.split(\".\")\n",
    "if x[-1]=='': x.pop()\n",
    "x"
   ]
  },
  {
   "cell_type": "code",
   "execution_count": null,
   "id": "ae59aa1b-8277-4713-934c-8017a7a94050",
   "metadata": {},
   "outputs": [],
   "source": [
    "\n"
   ]
  },
  {
   "cell_type": "code",
   "execution_count": null,
   "id": "435f63da-d9ca-4270-9168-94067d463b2c",
   "metadata": {},
   "outputs": [],
   "source": []
  },
  {
   "cell_type": "code",
   "execution_count": 13,
   "id": "ba8e19be-c1bf-42cb-ad7c-e887b6e538e1",
   "metadata": {},
   "outputs": [
    {
     "data": {
      "text/plain": [
       "[['a',\n",
       "  'cooperating',\n",
       "  'process',\n",
       "  'is',\n",
       "  'one',\n",
       "  'that',\n",
       "  'can',\n",
       "  'affect',\n",
       "  'or',\n",
       "  'be',\n",
       "  'affected',\n",
       "  'by',\n",
       "  'other',\n",
       "  'processes',\n",
       "  'executing',\n",
       "  'in',\n",
       "  'the',\n",
       "  'system'],\n",
       " ['',\n",
       "  'cooperating',\n",
       "  'processes',\n",
       "  'can',\n",
       "  'either',\n",
       "  'directly',\n",
       "  'share',\n",
       "  'a',\n",
       "  'logical',\n",
       "  'address',\n",
       "  'space',\n",
       "  '',\n",
       "  'that',\n",
       "  'is',\n",
       "  '',\n",
       "  'both',\n",
       "  'code',\n",
       "  'and',\n",
       "  'data',\n",
       "  '',\n",
       "  'or',\n",
       "  'be',\n",
       "  'allowed',\n",
       "  'to',\n",
       "  'share',\n",
       "  'data',\n",
       "  'only',\n",
       "  'through',\n",
       "  'files',\n",
       "  'or',\n",
       "  'messages']]"
      ]
     },
     "execution_count": 13,
     "metadata": {},
     "output_type": "execute_result"
    }
   ],
   "source": [
    "words=[]\n",
    "i=0\n",
    "for sentence in x:\n",
    "    words.append(sentence.split(\" \"))\n",
    "    i=i+1\n",
    "words"
   ]
  },
  {
   "cell_type": "code",
   "execution_count": 14,
   "id": "f520b711-f3fb-4a26-b5aa-4386b9d7a806",
   "metadata": {},
   "outputs": [],
   "source": [
    "for i in range(0,len(words)):\n",
    "    words[i]=[word for word in words[i] if not word in stop_words]"
   ]
  },
  {
   "cell_type": "code",
   "execution_count": 15,
   "id": "2f6804cf-f1d8-41b7-8002-94a68244aa1c",
   "metadata": {},
   "outputs": [
    {
     "data": {
      "text/plain": [
       "[['cooperating',\n",
       "  'process',\n",
       "  'affect',\n",
       "  'affected',\n",
       "  'processes',\n",
       "  'executing',\n",
       "  'system'],\n",
       " ['cooperating',\n",
       "  'processes',\n",
       "  'logical',\n",
       "  'address',\n",
       "  'code',\n",
       "  'data',\n",
       "  'data',\n",
       "  'files',\n",
       "  'messages']]"
      ]
     },
     "execution_count": 15,
     "metadata": {},
     "output_type": "execute_result"
    }
   ],
   "source": [
    "words"
   ]
  },
  {
   "cell_type": "code",
   "execution_count": 16,
   "id": "e0cb1b7c-ee14-4ed8-9a72-b6713a954093",
   "metadata": {},
   "outputs": [
    {
     "name": "stdout",
     "output_type": "stream",
     "text": [
      "[['process', 'executing'], ['address', 'files']]\n"
     ]
    }
   ],
   "source": [
    "import random\n",
    "selected_words=[]\n",
    "\n",
    "for i in range(0,len(words)):\n",
    "    if len(words[i])>2:\n",
    "     random_index1=random.randint(0,len(words[i])-1)\n",
    "     random_index2=random.randint(0,len(words[i])-1)\n",
    "     equal=1\n",
    "     counter=0\n",
    "     while equal:\n",
    "        if words[i][random_index1]==words[i][random_index2]:\n",
    "                random_index2=random.randint(0,len(words[i])-1)\n",
    "                counter=counter+1\n",
    "                if counter>len(words[i]):\n",
    "                    equal=0\n",
    "        else:\n",
    "            equal=0\n",
    "     select=[]\n",
    "     select.append(words[i][random_index1])\n",
    "     select.append(words[i][random_index2])\n",
    "     selected_words.append(select)\n",
    "    else:\n",
    "        selected_words.append(words[i])\n",
    "print(selected_words)\n"
   ]
  },
  {
   "cell_type": "code",
   "execution_count": null,
   "id": "0baa4f17-5a2d-4443-9b4c-a79a3f860ef2",
   "metadata": {},
   "outputs": [],
   "source": []
  }
 ],
 "metadata": {
  "kernelspec": {
   "display_name": "Python [conda env:base] *",
   "language": "python",
   "name": "conda-base-py"
  },
  "language_info": {
   "codemirror_mode": {
    "name": "ipython",
    "version": 3
   },
   "file_extension": ".py",
   "mimetype": "text/x-python",
   "name": "python",
   "nbconvert_exporter": "python",
   "pygments_lexer": "ipython3",
   "version": "3.12.2"
  }
 },
 "nbformat": 4,
 "nbformat_minor": 5
}
